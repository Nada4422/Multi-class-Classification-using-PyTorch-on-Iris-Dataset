{
 "cells": [
  {
   "cell_type": "code",
   "execution_count": 1135,
   "id": "522ecc0a",
   "metadata": {},
   "outputs": [],
   "source": [
    "import torch  # PyTorch library for creating and training the neural network\n",
    "import torch.nn as nn  # nn contains modules to build the neural network\n",
    "from torch.utils.data import Dataset, DataLoader  # Dataset for data loading and DataLoader for batching\n",
    "from sklearn.datasets import load_iris  # Sklearn's Iris dataset (not used here since data is loaded from CSV)\n",
    "from sklearn.model_selection import train_test_split  # For splitting the dataset into train, validation, and test sets\n",
    "from sklearn.preprocessing import StandardScaler, LabelBinarizer  # Scaler for normalization and Binarizer for one-hot encoding\n",
    "from sklearn.metrics import accuracy_score, confusion_matrix, classification_report, roc_auc_score, roc_curve  # Evaluation metrics\n",
    "import pandas as pd  # Data manipulation with pandas\n",
    "import seaborn as sns  # For visualization of confusion matrix\n",
    "import matplotlib.pyplot as plt  # Plotting graphs\n",
    "import numpy as np  # For handling arrays"
   ]
  },
  {
   "cell_type": "code",
   "execution_count": 1136,
   "id": "078f1db4",
   "metadata": {},
   "outputs": [],
   "source": [
    "# 1. Load and preprocess the Iris dataset\n",
    "df = pd.read_csv('D:/noody/Deep learning/Lab 2/iris.csv')  # Load the dataset from a CSV file\n",
    "\n",
    "# Split dataset into features (X) and target (y)\n",
    "X = df.drop(columns=['species'])  # X contains the features, drop 'species' column\n",
    "y = df['species']  # y contains the target labels, which is the 'species' column"
   ]
  },
  {
   "cell_type": "code",
   "execution_count": 1137,
   "id": "5c493a35",
   "metadata": {},
   "outputs": [],
   "source": [
    "# 2. Normalize features\n",
    "scaler = StandardScaler()  # Initialize the StandardScaler to normalize features (mean=0, std=1)\n",
    "X = scaler.fit_transform(X)  # Fit the scaler to X and transform X to a standardized form"
   ]
  },
  {
   "cell_type": "code",
   "execution_count": 1138,
   "id": "62de1366",
   "metadata": {},
   "outputs": [],
   "source": [
    "# 3. One-hot encode target labels\n",
    "lb = LabelBinarizer()  # Initialize LabelBinarizer to convert class labels to one-hot encoded vectors\n",
    "y_onehot = lb.fit_transform(y)  # Transform target labels to one-hot encoded form (3 classes)"
   ]
  },
  {
   "cell_type": "code",
   "execution_count": 1139,
   "id": "58cc7123",
   "metadata": {},
   "outputs": [],
   "source": [
    "# 4. Split the dataset into training (80%), validation (10%), and testing (10%)\n",
    "X_train, X_temp, y_train, y_temp = train_test_split(X, y_onehot, test_size=0.3, random_state=42)  \n",
    "# Split data into training (80%) and temporary (30%) for further validation/testing split\n",
    "\n",
    "X_val, X_test, y_val, y_test = train_test_split(X_temp, y_temp, test_size=0.5, random_state=42)\n",
    "# Split the temporary set equally into validation (10%) and testing (10%)"
   ]
  },
  {
   "cell_type": "code",
   "execution_count": 1140,
   "id": "fd04c017",
   "metadata": {},
   "outputs": [],
   "source": [
    "# Create a custom Dataset class to wrap the data for PyTorch DataLoader\n",
    "class Mydata(Dataset):\n",
    "    def __init__(self, X, y):\n",
    "        # Convert X and y from numpy arrays to PyTorch tensors\n",
    "        self.X = torch.from_numpy(X).type(torch.FloatTensor)  # Convert X to FloatTensor\n",
    "        self.y = torch.from_numpy(y).type(torch.FloatTensor).argmax(dim=1).type(torch.LongTensor)\n",
    "        # Convert y to LongTensor and find the index of the max value (to get class index from one-hot encoding)\n",
    "        self.len = self.X.shape[0]  # Get the number of samples\n",
    "\n",
    "    def __getitem__(self, index):\n",
    "        # Return the X and y for a given index (this method will be called by DataLoader)\n",
    "        return self.X[index], self.y[index]\n",
    "    \n",
    "    def __len__(self):\n",
    "        # Return the total number of samples in the dataset\n",
    "        return self.len"
   ]
  },
  {
   "cell_type": "code",
   "execution_count": 1141,
   "id": "4412ac22",
   "metadata": {},
   "outputs": [],
   "source": [
    "# Create DataLoader for batching the data during training\n",
    "data_train = Mydata(X_train, y_train)  # Initialize the Dataset for training data\n",
    "train_loader = DataLoader(dataset=data_train, batch_size=32)  # DataLoader to batch training data, batch size = 32\n",
    "\n",
    "data_val = Mydata(X_val, y_val)  # Initialize the Dataset for validation data\n",
    "val_loader = DataLoader(dataset=data_val, batch_size=32)  # DataLoader for validation data, batch size = 32"
   ]
  },
  {
   "cell_type": "code",
   "execution_count": 1142,
   "id": "8c07bb62",
   "metadata": {},
   "outputs": [],
   "source": [
    "# Define the neural network model\n",
    "class Multiclass(nn.Module):\n",
    "    def __init__(self):\n",
    "        super().__init__()\n",
    "        # Define layers of the network\n",
    "        self.hidden1 = nn.Linear(4, 8)  # First hidden layer: 4 input features to 8 neurons\n",
    "        self.hidden2 = nn.Linear(8, 12)  # Second hidden layer: 8 neurons to 12 neurons\n",
    "        self.act = nn.ReLU()  # Activation function is ReLU (Rectified Linear Unit)\n",
    "        self.output = nn.Linear(12, 3)  # Output layer: 12 neurons to 3 output classes (Iris-setosa, etc.)\n",
    "        \n",
    "    def forward(self, x):\n",
    "        # Define the forward pass\n",
    "        x = self.act(self.hidden1(x))  # Pass through first hidden layer and apply activation\n",
    "        x = self.act(self.hidden2(x))  # Pass through second hidden layer and apply activation\n",
    "        x = self.output(x)  # Pass through the output layer (no activation here, as CrossEntropyLoss expects raw scores)\n",
    "        return x\n",
    "    \n",
    "model = Multiclass()  # Initialize the model"
   ]
  },
  {
   "cell_type": "code",
   "execution_count": 1143,
   "id": "0b174f44",
   "metadata": {},
   "outputs": [],
   "source": [
    "# Define loss function and optimizer\n",
    "criterion = nn.CrossEntropyLoss()  # Loss function is CrossEntropyLoss (appropriate for classification tasks)\n",
    "optimizer = torch.optim.Adam(model.parameters(), lr=0.001)  # Use Adam optimizer with learning rate 0.001"
   ]
  },
  {
   "cell_type": "code",
   "execution_count": 1144,
   "id": "2d47b8ab",
   "metadata": {},
   "outputs": [
    {
     "name": "stdout",
     "output_type": "stream",
     "text": [
      "Epoch 1/100, Training Loss: 1.0885, Validation Loss: 1.0748\n",
      "Epoch 2/100, Training Loss: 1.0808, Validation Loss: 1.0648\n",
      "Epoch 3/100, Training Loss: 1.0732, Validation Loss: 1.0550\n",
      "Epoch 4/100, Training Loss: 1.0654, Validation Loss: 1.0451\n",
      "Epoch 5/100, Training Loss: 1.0576, Validation Loss: 1.0351\n",
      "Epoch 6/100, Training Loss: 1.0496, Validation Loss: 1.0249\n",
      "Epoch 7/100, Training Loss: 1.0412, Validation Loss: 1.0144\n",
      "Epoch 8/100, Training Loss: 1.0324, Validation Loss: 1.0035\n",
      "Epoch 9/100, Training Loss: 1.0232, Validation Loss: 0.9921\n",
      "Epoch 10/100, Training Loss: 1.0135, Validation Loss: 0.9802\n",
      "Epoch 11/100, Training Loss: 1.0034, Validation Loss: 0.9677\n",
      "Epoch 12/100, Training Loss: 0.9929, Validation Loss: 0.9547\n",
      "Epoch 13/100, Training Loss: 0.9818, Validation Loss: 0.9410\n",
      "Epoch 14/100, Training Loss: 0.9703, Validation Loss: 0.9266\n",
      "Epoch 15/100, Training Loss: 0.9585, Validation Loss: 0.9114\n",
      "Epoch 16/100, Training Loss: 0.9463, Validation Loss: 0.8955\n",
      "Epoch 17/100, Training Loss: 0.9336, Validation Loss: 0.8788\n",
      "Epoch 18/100, Training Loss: 0.9204, Validation Loss: 0.8614\n",
      "Epoch 19/100, Training Loss: 0.9068, Validation Loss: 0.8432\n",
      "Epoch 20/100, Training Loss: 0.8928, Validation Loss: 0.8241\n",
      "Epoch 21/100, Training Loss: 0.8784, Validation Loss: 0.8043\n",
      "Epoch 22/100, Training Loss: 0.8638, Validation Loss: 0.7837\n",
      "Epoch 23/100, Training Loss: 0.8489, Validation Loss: 0.7626\n",
      "Epoch 24/100, Training Loss: 0.8338, Validation Loss: 0.7408\n",
      "Epoch 25/100, Training Loss: 0.8185, Validation Loss: 0.7185\n",
      "Epoch 26/100, Training Loss: 0.8033, Validation Loss: 0.6959\n",
      "Epoch 27/100, Training Loss: 0.7880, Validation Loss: 0.6730\n",
      "Epoch 28/100, Training Loss: 0.7727, Validation Loss: 0.6500\n",
      "Epoch 29/100, Training Loss: 0.7574, Validation Loss: 0.6270\n",
      "Epoch 30/100, Training Loss: 0.7422, Validation Loss: 0.6041\n",
      "Epoch 31/100, Training Loss: 0.7272, Validation Loss: 0.5814\n",
      "Epoch 32/100, Training Loss: 0.7123, Validation Loss: 0.5590\n",
      "Epoch 33/100, Training Loss: 0.6977, Validation Loss: 0.5370\n",
      "Epoch 34/100, Training Loss: 0.6833, Validation Loss: 0.5156\n",
      "Epoch 35/100, Training Loss: 0.6692, Validation Loss: 0.4949\n",
      "Epoch 36/100, Training Loss: 0.6554, Validation Loss: 0.4749\n",
      "Epoch 37/100, Training Loss: 0.6421, Validation Loss: 0.4557\n",
      "Epoch 38/100, Training Loss: 0.6292, Validation Loss: 0.4374\n",
      "Epoch 39/100, Training Loss: 0.6168, Validation Loss: 0.4200\n",
      "Epoch 40/100, Training Loss: 0.6048, Validation Loss: 0.4035\n",
      "Epoch 41/100, Training Loss: 0.5932, Validation Loss: 0.3880\n",
      "Epoch 42/100, Training Loss: 0.5822, Validation Loss: 0.3735\n",
      "Epoch 43/100, Training Loss: 0.5715, Validation Loss: 0.3599\n",
      "Epoch 44/100, Training Loss: 0.5611, Validation Loss: 0.3471\n",
      "Epoch 45/100, Training Loss: 0.5510, Validation Loss: 0.3350\n",
      "Epoch 46/100, Training Loss: 0.5410, Validation Loss: 0.3236\n",
      "Epoch 47/100, Training Loss: 0.5313, Validation Loss: 0.3130\n",
      "Epoch 48/100, Training Loss: 0.5218, Validation Loss: 0.3030\n",
      "Epoch 49/100, Training Loss: 0.5126, Validation Loss: 0.2937\n",
      "Epoch 50/100, Training Loss: 0.5036, Validation Loss: 0.2850\n",
      "Epoch 51/100, Training Loss: 0.4950, Validation Loss: 0.2770\n",
      "Epoch 52/100, Training Loss: 0.4865, Validation Loss: 0.2695\n",
      "Epoch 53/100, Training Loss: 0.4783, Validation Loss: 0.2625\n",
      "Epoch 54/100, Training Loss: 0.4702, Validation Loss: 0.2560\n",
      "Epoch 55/100, Training Loss: 0.4622, Validation Loss: 0.2498\n",
      "Epoch 56/100, Training Loss: 0.4544, Validation Loss: 0.2440\n",
      "Epoch 57/100, Training Loss: 0.4467, Validation Loss: 0.2385\n",
      "Epoch 58/100, Training Loss: 0.4392, Validation Loss: 0.2333\n",
      "Epoch 59/100, Training Loss: 0.4317, Validation Loss: 0.2282\n",
      "Epoch 60/100, Training Loss: 0.4243, Validation Loss: 0.2234\n",
      "Epoch 61/100, Training Loss: 0.4171, Validation Loss: 0.2188\n",
      "Epoch 62/100, Training Loss: 0.4099, Validation Loss: 0.2144\n",
      "Epoch 63/100, Training Loss: 0.4029, Validation Loss: 0.2101\n",
      "Epoch 64/100, Training Loss: 0.3959, Validation Loss: 0.2059\n",
      "Epoch 65/100, Training Loss: 0.3890, Validation Loss: 0.2019\n",
      "Epoch 66/100, Training Loss: 0.3822, Validation Loss: 0.1980\n",
      "Epoch 67/100, Training Loss: 0.3754, Validation Loss: 0.1941\n",
      "Epoch 68/100, Training Loss: 0.3686, Validation Loss: 0.1903\n",
      "Epoch 69/100, Training Loss: 0.3619, Validation Loss: 0.1865\n",
      "Epoch 70/100, Training Loss: 0.3551, Validation Loss: 0.1828\n",
      "Epoch 71/100, Training Loss: 0.3485, Validation Loss: 0.1791\n",
      "Epoch 72/100, Training Loss: 0.3419, Validation Loss: 0.1756\n",
      "Epoch 73/100, Training Loss: 0.3355, Validation Loss: 0.1720\n",
      "Epoch 74/100, Training Loss: 0.3291, Validation Loss: 0.1686\n",
      "Epoch 75/100, Training Loss: 0.3228, Validation Loss: 0.1652\n",
      "Epoch 76/100, Training Loss: 0.3165, Validation Loss: 0.1619\n",
      "Epoch 77/100, Training Loss: 0.3104, Validation Loss: 0.1586\n",
      "Epoch 78/100, Training Loss: 0.3045, Validation Loss: 0.1554\n",
      "Epoch 79/100, Training Loss: 0.2986, Validation Loss: 0.1523\n",
      "Epoch 80/100, Training Loss: 0.2928, Validation Loss: 0.1493\n",
      "Epoch 81/100, Training Loss: 0.2871, Validation Loss: 0.1463\n",
      "Epoch 82/100, Training Loss: 0.2815, Validation Loss: 0.1434\n",
      "Epoch 83/100, Training Loss: 0.2760, Validation Loss: 0.1406\n",
      "Epoch 84/100, Training Loss: 0.2706, Validation Loss: 0.1377\n",
      "Epoch 85/100, Training Loss: 0.2653, Validation Loss: 0.1350\n",
      "Epoch 86/100, Training Loss: 0.2601, Validation Loss: 0.1322\n",
      "Epoch 87/100, Training Loss: 0.2550, Validation Loss: 0.1295\n",
      "Epoch 88/100, Training Loss: 0.2500, Validation Loss: 0.1269\n",
      "Epoch 89/100, Training Loss: 0.2451, Validation Loss: 0.1244\n",
      "Epoch 90/100, Training Loss: 0.2403, Validation Loss: 0.1218\n",
      "Epoch 91/100, Training Loss: 0.2356, Validation Loss: 0.1194\n",
      "Epoch 92/100, Training Loss: 0.2310, Validation Loss: 0.1169\n",
      "Epoch 93/100, Training Loss: 0.2265, Validation Loss: 0.1145\n",
      "Epoch 94/100, Training Loss: 0.2221, Validation Loss: 0.1121\n",
      "Epoch 95/100, Training Loss: 0.2177, Validation Loss: 0.1098\n",
      "Epoch 96/100, Training Loss: 0.2134, Validation Loss: 0.1075\n",
      "Epoch 97/100, Training Loss: 0.2093, Validation Loss: 0.1052\n",
      "Epoch 98/100, Training Loss: 0.2052, Validation Loss: 0.1030\n",
      "Epoch 99/100, Training Loss: 0.2012, Validation Loss: 0.1008\n",
      "Epoch 100/100, Training Loss: 0.1973, Validation Loss: 0.0987\n"
     ]
    }
   ],
   "source": [
    "# Training Loop\n",
    "NUM_EPOCHS = 100  # Number of training epochs (iterations over the entire dataset)\n",
    "train_losses, val_losses = [], []  # Lists to track training and validation losses\n",
    "\n",
    "for epoch in range(NUM_EPOCHS):\n",
    "    model.train()  # Set the model to training mode\n",
    "    epoch_loss = 0.0  # Initialize loss for the current epoch\n",
    "\n",
    "    for x, y in train_loader:\n",
    "        optimizer.zero_grad()  # Reset gradients to zero\n",
    "\n",
    "        # Forward pass\n",
    "        y_hat_log = model(x)  # Get model predictions (raw scores/logits)\n",
    "        \n",
    "        # Calculate loss\n",
    "        loss = criterion(y_hat_log, y)  # Compute loss between predicted and true labels\n",
    "        \n",
    "        # Backpropagation\n",
    "        loss.backward()  # Compute gradients with respect to model parameters\n",
    "        \n",
    "        # Update parameters \n",
    "        optimizer.step()  # Update model parameters based on gradients\n",
    "        \n",
    "        epoch_loss += loss.item()  # Accumulate the loss for this epoch\n",
    "    \n",
    "    # Calculate average loss for the epoch\n",
    "    average_train_loss = epoch_loss / len(train_loader)\n",
    "    train_losses.append(average_train_loss)  # Save training loss for this epoch\n",
    "        \n",
    "    # Validation step\n",
    "    model.eval()  # Set the model to evaluation mode\n",
    "    val_loss = 0.0\n",
    "    with torch.no_grad():  # Disable gradient calculation for validation (faster, no backpropagation)\n",
    "        for x_val, y_val in val_loader:\n",
    "            y_val_hat_log = model(x_val)  # Get predictions for validation set\n",
    "            val_loss += criterion(y_val_hat_log, y_val).item()  # Compute validation loss\n",
    "    \n",
    "    average_val_loss = val_loss / len(val_loader)  # Calculate average validation loss\n",
    "    val_losses.append(average_val_loss)  # Save validation loss\n",
    "    \n",
    "    # Print epoch number and losses\n",
    "    print(f\"Epoch {epoch + 1}/{NUM_EPOCHS}, Training Loss: {average_train_loss:.4f}, Validation Loss: {average_val_loss:.4f}\")\n"
   ]
  },
  {
   "cell_type": "code",
   "execution_count": 1145,
   "id": "b1e84ade",
   "metadata": {},
   "outputs": [
    {
     "data": {
      "image/png": "[encoded data removed]",
      "text/plain": [
       "<Figure size 640x480 with 1 Axes>"
      ]
     },
     "metadata": {},
     "output_type": "display_data"
    }
   ],
   "source": [
    "# 5. Plot Training and Validation Loss\n",
    "plt.plot(range(NUM_EPOCHS), train_losses, label=\"Training Loss\")  # Plot training loss over epochs\n",
    "plt.plot(range(NUM_EPOCHS), val_losses, label=\"Validation Loss\")  # Plot validation loss over epochs\n",
    "plt.xlabel(\"Epochs\")  # X-axis label\n",
    "plt.ylabel(\"Loss\")  # Y-axis label\n",
    "plt.legend()  # Show legend\n",
    "plt.show()  # Display the plot"
   ]
  },
  {
   "cell_type": "code",
   "execution_count": 1146,
   "id": "e215fc0e",
   "metadata": {},
   "outputs": [],
   "source": [
    "# 6. Model Evaluation on Test Data\n",
    "X_test = torch.from_numpy(X_test).type(torch.FloatTensor)  # Convert test data to FloatTensor"
   ]
  },
  {
   "cell_type": "code",
   "execution_count": 1147,
   "id": "6602945e",
   "metadata": {},
   "outputs": [],
   "source": [
    "# Disable gradient calculation (since we are in evaluation mode)\n",
    "with torch.no_grad():\n",
    "    y_test_hat_softmax = model(X_test)  # Get predictions (raw scores/logits) from the model\n",
    "    y_test_hat = torch.max(y_test_hat_softmax.data, 1)  # Find the index of the maximum logit (predicted class)"
   ]
  },
  {
   "cell_type": "code",
   "execution_count": 1148,
   "id": "480537d7",
   "metadata": {},
   "outputs": [],
   "source": [
    "# Convert tensors to numpy arrays for metric calculations\n",
    "y_test_np = y_test.argmax(axis=1)  # Convert one-hot encoded y_test to class indices\n",
    "y_test_hat_np = y_test_hat.indices.numpy()  # Convert predicted classes to numpy array"
   ]
  },
  {
   "cell_type": "code",
   "execution_count": 1149,
   "id": "1dc122ec",
   "metadata": {},
   "outputs": [
    {
     "name": "stdout",
     "output_type": "stream",
     "text": [
      "Model Accuracy: 95.65%\n"
     ]
    }
   ],
   "source": [
    "# Accuracy Score\n",
    "accuracy = accuracy_score(y_test_np, y_test_hat_np)  # Calculate accuracy\n",
    "print(f\"Model Accuracy: {accuracy * 100:.2f}%\")  # Print accuracy percentage"
   ]
  },
  {
   "cell_type": "code",
   "execution_count": 1150,
   "id": "454cded5",
   "metadata": {},
   "outputs": [
    {
     "name": "stdout",
     "output_type": "stream",
     "text": [
      "Confusion Matrix:\n",
      "[[6 0 0]\n",
      " [0 9 1]\n",
      " [0 0 7]]\n"
     ]
    }
   ],
   "source": [
    "# Confusion Matrix\n",
    "conf_matrix = confusion_matrix(y_test_np, y_test_hat_np)  # Generate confusion matrix\n",
    "print(f'Confusion Matrix:\\n{conf_matrix}')  # Print confusion matrix"
   ]
  },
  {
   "cell_type": "code",
   "execution_count": 1151,
   "id": "7d416a76",
   "metadata": {},
   "outputs": [
    {
     "name": "stdout",
     "output_type": "stream",
     "text": [
      "Classification Report:\n",
      "                 precision    recall  f1-score   support\n",
      "\n",
      "    Iris-setosa       1.00      1.00      1.00         6\n",
      "Iris-versicolor       1.00      0.90      0.95        10\n",
      " Iris-virginica       0.88      1.00      0.93         7\n",
      "\n",
      "       accuracy                           0.96        23\n",
      "      macro avg       0.96      0.97      0.96        23\n",
      "   weighted avg       0.96      0.96      0.96        23\n",
      "\n"
     ]
    }
   ],
   "source": [
    "# Classification Report (Precision, Recall, F1-Score)\n",
    "print(\"Classification Report:\")\n",
    "print(classification_report(y_test_np, y_test_hat_np, target_names=lb.classes_))  # Print classification report"
   ]
  },
  {
   "cell_type": "code",
   "execution_count": 1152,
   "id": "7926f7ab",
   "metadata": {},
   "outputs": [
    {
     "data": {
      "image/png": "[encoded data removed]",
      "text/plain": [
       "<Figure size 640x480 with 1 Axes>"
      ]
     },
     "metadata": {},
     "output_type": "display_data"
    }
   ],
   "source": [
    "# 7. ROC-AUC Curve\n",
    "y_test_proba = y_test_hat_softmax.numpy()  # Convert raw scores/logits to numpy array\n",
    "\n",
    "# Compute ROC curve and ROC-AUC for each class\n",
    "for i, class_label in enumerate(lb.classes_):\n",
    "    fpr, tpr, _ = roc_curve(y_test[:, i], y_test_proba[:, i])  # Calculate false positive rate, true positive rate\n",
    "    roc_auc = roc_auc_score(y_test[:, i], y_test_proba[:, i])  # Calculate ROC-AUC score\n",
    "    plt.plot(fpr, tpr, label=f\"{class_label} (AUC = {roc_auc:.2f})\")  # Plot ROC curve for each class\n",
    "\n",
    "plt.xlabel('False Positive Rate')  # X-axis label\n",
    "plt.ylabel('True Positive Rate')  # Y-axis label\n",
    "plt.title('ROC-AUC Curve')  # Plot title\n",
    "plt.legend(loc='lower right')  # Show legend at lower right\n",
    "plt.show()  # Display the ROC-AUC plot"
   ]
  }
 ],
 "metadata": {
  "kernelspec": {
   "display_name": "Python 3 (ipykernel)",
   "language": "python",
   "name": "python3"
  },
  "language_info": {
   "codemirror_mode": {
    "name": "ipython",
    "version": 3
   },
   "file_extension": ".py",
   "mimetype": "text/x-python",
   "name": "python",
   "nbconvert_exporter": "python",
   "pygments_lexer": "ipython3",
   "version": "3.11.4"
  }
 },
 "nbformat": 4,
 "nbformat_minor": 5
}
